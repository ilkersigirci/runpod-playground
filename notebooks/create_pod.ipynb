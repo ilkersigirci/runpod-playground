{
 "cells": [
  {
   "cell_type": "code",
   "execution_count": 5,
   "metadata": {},
   "outputs": [],
   "source": [
    "import os\n",
    "\n",
    "from dotenv import load_dotenv\n",
    "\n",
    "load_dotenv()\n",
    "\n",
    "HF_HOME = os.environ[\"HF_HOME\"]\n",
    "HF_TOKEN = os.getenv(\"HF_TOKEN\", None)\n",
    "RUNPOD_API_KEY = os.environ[\"RUNPOD_API_KEY\"]"
   ]
  },
  {
   "cell_type": "code",
   "execution_count": 6,
   "metadata": {},
   "outputs": [],
   "source": [
    "import runpod\n",
    "\n",
    "runpod.api_key = RUNPOD_API_KEY"
   ]
  },
  {
   "cell_type": "code",
   "execution_count": null,
   "metadata": {},
   "outputs": [],
   "source": [
    "# show all possible available GPUs\n",
    "runpod.get_gpus()"
   ]
  },
  {
   "cell_type": "markdown",
   "metadata": {},
   "source": [
    "## Create Template\n"
   ]
  },
  {
   "cell_type": "code",
   "execution_count": 8,
   "metadata": {},
   "outputs": [],
   "source": [
    "python3_10__cuda_12_1_1_template_id = \"rpecke8s9s\""
   ]
  },
  {
   "cell_type": "code",
   "execution_count": null,
   "metadata": {},
   "outputs": [],
   "source": [
    "# Set your global API key with `runpod config` or uncomment the line below:\n",
    "# runpod.api_key = \"YOUR_RUNPOD_API_KEY\"\n",
    "\n",
    "try:\n",
    "    new_template = runpod.create_template(name=\"test\", image_name=\"runpod/base:0.1.0\")\n",
    "\n",
    "    print(new_template)\n",
    "\n",
    "except runpod.error.QueryError as err:\n",
    "    print(err)\n",
    "    print(err.query)"
   ]
  },
  {
   "cell_type": "markdown",
   "metadata": {},
   "source": [
    "## Create Pod\n"
   ]
  },
  {
   "cell_type": "code",
   "execution_count": 9,
   "metadata": {},
   "outputs": [],
   "source": [
    "# Create your pod, you can set the data_center_id (optional)\n",
    "# Decide which model you want to use, here we use falcon-40b\n",
    "\n",
    "# gpu_count = 2\n",
    "# gpu_type_id = \"NVIDIA A100 80GB PCIe\"\n",
    "# model = \"mistralai/Mixtral-8x7B-Instruct-v0.1\"\n",
    "\n",
    "gpu_count = 1\n",
    "gpu_type_id = \"NVIDIA GeForce RTX 4090\"\n",
    "model = \"TinyLlama/TinyLlama-1.1B-Chat-v1.0\"\n",
    "# model = \"mistralai/Mistral-7B-Instruct-v0.2\"\n",
    "\n",
    "served_model_name = model.split(\"/\")[1]\n",
    "\n",
    "docker_args = f\"\"\"\n",
    "--host 0.0.0\n",
    "--port 8000\n",
    "--tensor-parallel-size {gpu_count}\n",
    "--gpu-memory-utilization 0.9\n",
    "--model {model}\n",
    "--served-model-name {served_model_name}\n",
    "\"\"\"\n",
    "\n",
    "pod = runpod.create_pod(\n",
    "    name=\"API_Mixtral-VLLM\",\n",
    "    # image_name=\"ghcr.io/huggingface/text-generation-inference:0.8\",\n",
    "    # image_name=\"ghcr.io/mistralai/mistral-src/vllm:latest\",\n",
    "    image_name=\"runpod/pytorch:2.1.1-py3.10-cuda12.1.1-devel-ubuntu22.04\",\n",
    "    gpu_type_id=gpu_type_id,\n",
    "    cloud_type=\"SECURE\",\n",
    "    # data_center_id=\"US-KS-1\",\n",
    "    # docker_args=f\"--host 0.0.0.0 --model {model}\",\n",
    "    docker_args=docker_args,\n",
    "    env={\"HF_HOME\": HF_HOME, \"HF_TOKEN\": HF_TOKEN},\n",
    "    gpu_count=gpu_count,\n",
    "    container_disk_in_gb=10,\n",
    "    volume_in_gb=100,\n",
    "    ports=\"80/http,8000/http,8080/http,22/tcp\",\n",
    "    volume_mount_path=\"/workspace\",\n",
    "    # template_id=python3_10__cuda_12_1_1_template_id,\n",
    ")\n",
    "\n",
    "pod_id = pod[\"id\"]"
   ]
  },
  {
   "cell_type": "code",
   "execution_count": 10,
   "metadata": {},
   "outputs": [
    {
     "data": {
      "text/plain": [
       "'https://7a3497thj0fahy-8000.proxy.runpod.net'"
      ]
     },
     "execution_count": 10,
     "metadata": {},
     "output_type": "execute_result"
    }
   ],
   "source": [
    "inference_server_url = f\"https://{pod_id}-8000.proxy.runpod.net\"\n",
    "\n",
    "inference_server_url"
   ]
  },
  {
   "cell_type": "markdown",
   "metadata": {},
   "source": [
    "### Test Inference URL\n",
    "\n",
    "```bash\n",
    "curl --request POST \\\n",
    "    --url https://rw4roeeh8ywsze-8000.proxy.runpod.net/v1/chat/completions \\\n",
    "    --header \"Content-Type: application/json\" \\\n",
    "    --data '{\n",
    "  \"model\": \"Mixtral-8X7B-Instruct-v0.1\",\n",
    "  \"messages\": [\n",
    "    {\n",
    "      \"role\": \"user\",\n",
    "      \"content\": \"Say this is a test!\"\n",
    "\n",
    "    }\n",
    "  ],\n",
    "  \"temperature\": 0.8,\n",
    "  \"stream\": false\n",
    "}'\n",
    "```\n"
   ]
  },
  {
   "cell_type": "markdown",
   "metadata": {},
   "source": [
    "## Terminate Pod\n"
   ]
  },
  {
   "cell_type": "code",
   "execution_count": null,
   "metadata": {},
   "outputs": [],
   "source": [
    "runpod.terminate_pod(pod_id)"
   ]
  }
 ],
 "metadata": {
  "kernelspec": {
   "display_name": ".venv",
   "language": "python",
   "name": "python3"
  },
  "language_info": {
   "codemirror_mode": {
    "name": "ipython",
    "version": 3
   },
   "file_extension": ".py",
   "mimetype": "text/x-python",
   "name": "python",
   "nbconvert_exporter": "python",
   "pygments_lexer": "ipython3",
   "version": "3.11.8"
  }
 },
 "nbformat": 4,
 "nbformat_minor": 2
}
