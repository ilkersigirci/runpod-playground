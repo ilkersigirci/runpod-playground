{
 "cells": [
  {
   "cell_type": "code",
   "execution_count": 1,
   "metadata": {},
   "outputs": [],
   "source": [
    "import os\n",
    "\n",
    "from dotenv import load_dotenv\n",
    "\n",
    "load_dotenv()\n",
    "\n",
    "HF_HOME = os.environ[\"HF_HOME\"]\n",
    "HF_TOKEN = os.getenv(\"HF_TOKEN\", None)\n",
    "RUNPOD_API_KEY = os.environ[\"RUNPOD_API_KEY\"]"
   ]
  },
  {
   "cell_type": "code",
   "execution_count": 2,
   "metadata": {},
   "outputs": [
    {
     "name": "stderr",
     "output_type": "stream",
     "text": [
      "/home/ilker/Documents/Me/Repositories/runpod-playground/.venv/lib/python3.11/site-packages/tqdm/auto.py:21: TqdmWarning: IProgress not found. Please update jupyter and ipywidgets. See https://ipywidgets.readthedocs.io/en/stable/user_install.html\n",
      "  from .autonotebook import tqdm as notebook_tqdm\n"
     ]
    }
   ],
   "source": [
    "import runpod\n",
    "\n",
    "runpod.api_key = RUNPOD_API_KEY"
   ]
  },
  {
   "cell_type": "code",
   "execution_count": null,
   "metadata": {},
   "outputs": [],
   "source": [
    "## show all possible available GPUs\n",
    "\n",
    "# runpod.get_gpus()"
   ]
  },
  {
   "cell_type": "markdown",
   "metadata": {},
   "source": [
    "## Create Template\n"
   ]
  },
  {
   "cell_type": "code",
   "execution_count": null,
   "metadata": {},
   "outputs": [],
   "source": [
    "# try:\n",
    "#     new_template = runpod.create_template(name=\"test\", image_name=\"runpod/base:0.1.0\")\n",
    "\n",
    "#     print(new_template)\n",
    "\n",
    "# except runpod.error.QueryError as err:\n",
    "#     print(err)\n",
    "#     print(err.query)"
   ]
  },
  {
   "cell_type": "markdown",
   "metadata": {},
   "source": [
    "## Create Pod\n"
   ]
  },
  {
   "cell_type": "code",
   "execution_count": 3,
   "metadata": {},
   "outputs": [
    {
     "name": "stdout",
     "output_type": "stream",
     "text": [
      "k7vk14rau9dnpd\n"
     ]
    }
   ],
   "source": [
    "import random\n",
    "\n",
    "# data_center_id = \"US-KS-1\"\n",
    "# data_center_id = \"CA-MTL-1\"\n",
    "\n",
    "pod_name = f\"API_Mixtral-VLLM_{random.randint(0, 100)}\"\n",
    "data_center_id = None\n",
    "\n",
    "# image_name = \"runpod/pytorch:2.1.1-py3.10-cuda12.1.1-devel-ubuntu22.04\"\n",
    "# image_name = \"ghcr.io/mistralai/mistral-src/vllm:latest\"\n",
    "image_name = \"ghcr.io/substratusai/vllm\"\n",
    "\n",
    "gpu_count = 2\n",
    "gpu_type_id = \"NVIDIA A100 80GB PCIe\"\n",
    "model = \"mistralai/Mixtral-8x7B-Instruct-v0.1\"\n",
    "\n",
    "# gpu_count = 1\n",
    "# gpu_type_id = \"NVIDIA GeForce RTX 4090\"\n",
    "# model = \"TinyLlama/TinyLlama-1.1B-Chat-v1.0\"\n",
    "# model = \"mistralai/Mistral-7B-Instruct-v0.2\"\n",
    "\n",
    "served_model_name = model.split(\"/\")[1]\n",
    "\n",
    "port = 8000\n",
    "\n",
    "docker_args = \"\"\n",
    "# docker_args = f\"--host 0.0.0.0 --model {model}\"\n",
    "# docker_args = f\"\"\"\n",
    "# --host 0.0.0 \\\n",
    "# --port {port} \\\n",
    "# --tensor-parallel-size {gpu_count} \\\n",
    "# --gpu-memory-utilization 0.9 \\\n",
    "# --model {model} \\\n",
    "# --served-model-name {served_model_name}\n",
    "# \"\"\"\n",
    "\n",
    "env = {\n",
    "    \"HF_HOME\": HF_HOME,\n",
    "    \"HF_TOKEN\": HF_TOKEN,\n",
    "    ###################\n",
    "    \"PORT\": port,\n",
    "    \"MODEL\": model,\n",
    "    \"SERVED_MODEL_NAME\": served_model_name,\n",
    "}\n",
    "\n",
    "\n",
    "pod = runpod.create_pod(\n",
    "    name=pod_name,\n",
    "    image_name=image_name,\n",
    "    gpu_type_id=gpu_type_id,\n",
    "    cloud_type=\"SECURE\",\n",
    "    data_center_id=data_center_id,\n",
    "    docker_args=docker_args,\n",
    "    env=env,\n",
    "    gpu_count=gpu_count,\n",
    "    container_disk_in_gb=10,\n",
    "    volume_in_gb=100,\n",
    "    ports=f\"80/http,8080/http,22/tcp,{port}/http\",\n",
    "    volume_mount_path=\"/workspace\",\n",
    "    # template_id=python3_10__cuda_12_1_1_template_id,\n",
    ")\n",
    "\n",
    "pod_id = pod[\"id\"]\n",
    "print(pod_id)"
   ]
  },
  {
   "cell_type": "code",
   "execution_count": 5,
   "metadata": {},
   "outputs": [
    {
     "data": {
      "text/plain": [
       "True"
      ]
     },
     "execution_count": 5,
     "metadata": {},
     "output_type": "execute_result"
    }
   ],
   "source": [
    "pod[\"desiredStatus\"] == \"RUNNING\""
   ]
  },
  {
   "cell_type": "code",
   "execution_count": 6,
   "metadata": {},
   "outputs": [],
   "source": [
    "inference_server_url = f\"https://{pod_id}-{port}.proxy.runpod.net\""
   ]
  },
  {
   "cell_type": "markdown",
   "metadata": {},
   "source": [
    "### Test Inference URL\n",
    "\n",
    "```bash\n",
    "curl --request POST \\\n",
    "  --url https://2hxodb9yfzn439-8000.proxy.runpod.net/v1/chat/completions \\\n",
    "  --header \"Content-Type: application/json\" \\\n",
    "  --data '{\n",
    "  \"model\": \"TinyLlama-1.1B-Chat-v1.0\",\n",
    "  \"messages\": [\n",
    "    {\n",
    "      \"role\": \"user\",\n",
    "      \"content\": \"Say this is a test!\"\n",
    "\n",
    "    }\n",
    "  ],\n",
    "  \"temperature\": 0.2,\n",
    "  \"stream\": false\n",
    "}'\n",
    "```\n"
   ]
  },
  {
   "cell_type": "code",
   "execution_count": 23,
   "metadata": {},
   "outputs": [
    {
     "name": "stdout",
     "output_type": "stream",
     "text": [
      "{'id': 'cmpl-43a0d0fa170a406c90f901289319d7a0', 'object': 'chat.completion', 'created': 1184415, 'model': 'TinyLlama-1.1B-Chat-v1.0', 'choices': [{'index': 0, 'message': {'role': 'assistant', 'content': \"Sure, here's a test:\\n\\nThis is a test!\"}, 'logprobs': None, 'finish_reason': 'stop'}], 'usage': {'prompt_tokens': 24, 'total_tokens': 41, 'completion_tokens': 17}}\n"
     ]
    }
   ],
   "source": [
    "import json\n",
    "\n",
    "import requests\n",
    "\n",
    "url = f\"{inference_server_url}/v1/chat/completions\"\n",
    "headers = {\"Content-Type\": \"application/json\"}\n",
    "data = {\n",
    "    \"model\": served_model_name,\n",
    "    \"messages\": [{\"role\": \"user\", \"content\": \"Say this is a test!\"}],\n",
    "    \"temperature\": 0.2,\n",
    "    \"stream\": False,\n",
    "}\n",
    "\n",
    "response = requests.post(url, headers=headers, data=json.dumps(data))\n",
    "\n",
    "print(response.json())"
   ]
  },
  {
   "cell_type": "markdown",
   "metadata": {},
   "source": [
    "## Terminate Pod\n"
   ]
  },
  {
   "cell_type": "code",
   "execution_count": null,
   "metadata": {},
   "outputs": [],
   "source": [
    "runpod.terminate_pod(pod_id)"
   ]
  }
 ],
 "metadata": {
  "kernelspec": {
   "display_name": ".venv",
   "language": "python",
   "name": "python3"
  },
  "language_info": {
   "codemirror_mode": {
    "name": "ipython",
    "version": 3
   },
   "file_extension": ".py",
   "mimetype": "text/x-python",
   "name": "python",
   "nbconvert_exporter": "python",
   "pygments_lexer": "ipython3",
   "version": "3.11.8"
  }
 },
 "nbformat": 4,
 "nbformat_minor": 2
}
